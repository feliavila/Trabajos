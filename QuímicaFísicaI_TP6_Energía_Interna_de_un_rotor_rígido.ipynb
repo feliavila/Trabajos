{
  "nbformat": 4,
  "nbformat_minor": 0,
  "metadata": {
    "colab": {
      "provenance": [],
      "authorship_tag": "ABX9TyOb5aIGyAVEWpP9N3NyQHBO",
      "include_colab_link": true
    },
    "kernelspec": {
      "name": "python3",
      "display_name": "Python 3"
    },
    "language_info": {
      "name": "python"
    }
  },
  "cells": [
    {
      "cell_type": "markdown",
      "metadata": {
        "id": "view-in-github",
        "colab_type": "text"
      },
      "source": [
        "<a href=\"https://colab.research.google.com/github/feliavila/Trabajos/blob/main/Qu%C3%ADmicaF%C3%ADsicaI_TP6_Energ%C3%ADa_Interna_de_un_rotor_r%C3%ADgido.ipynb\" target=\"_parent\"><img src=\"https://colab.research.google.com/assets/colab-badge.svg\" alt=\"Open In Colab\"/></a>"
      ]
    },
    {
      "cell_type": "code",
      "source": [
        "import math"
      ],
      "metadata": {
        "id": "dT3xdVZSrcQM"
      },
      "execution_count": null,
      "outputs": []
    },
    {
      "cell_type": "code",
      "execution_count": null,
      "metadata": {
        "colab": {
          "base_uri": "https://localhost:8080/"
        },
        "id": "YdvyeSh75eBW",
        "outputId": "048dfac8-9c61-4ba6-9f74-871f0d8d32c0"
      },
      "outputs": [
        {
          "output_type": "stream",
          "name": "stdout",
          "text": [
            "ingrese la masa 1 en g/mol 14.007\n",
            "ingrese el valor de req en nm 0.11\n",
            "inserte el valor de j: 10\n",
            "inserte el valor de la temperatura: 300\n",
            "la energía interna es: 7.908666692165204e-30 Joules\n"
          ]
        }
      ],
      "source": [
        "#definimos las constantes\n",
        "h= 6.62607015*10**-34\n",
        "h_=h/(2*math.pi)\n",
        "kb= 1.380649*10**-23\n",
        "Na= 6.02214076*10**23\n",
        "luz=299792458\n",
        "\n",
        "# definimos la función masa reducida\n",
        "def mu(m1,m2):\n",
        "  return (m1*m2*10**-6/Na**2)/((m1/Na+m2/Na)*10**-3)\n",
        "a=float(input(\"ingrese la masa 1 en g/mol \"))\n",
        "c=a\n",
        "\n",
        "#definimos la función B\n",
        "def B(req):\n",
        "  return h_/(4*math.pi*luz*mu(a,c)*((req*10**-9)**2))\n",
        "d=float(input(\"ingrese el valor de req en nm \"))\n",
        "\n",
        "\n",
        "#definimos la función g_j, e_j\n",
        "def g_j(t):\n",
        "  return 2*t+1\n",
        "\n",
        "def e_j(t):\n",
        "  return h*B(d)*t*(t+1)\n",
        "\n",
        "j=int(input(\"inserte el valor de j: \"))\n",
        "\n",
        "#definimos la función q\n",
        "T=float(input(\"inserte el valor de la temperatura: \"))\n",
        "def q(n):\n",
        "  return sum(g_j(i)*math.exp((-e_j(i))/(kb*T)) for i in range (0,n+1))\n",
        "\n",
        "#definimos la función p_j\n",
        "def p_j(o):\n",
        "  return(g_j(o)/q(j)*math.exp(-e_j(o)/(kb*T)))\n",
        "\n",
        "\n",
        "#escribimos la función U\n",
        "U = sum(p_j(z) * e_j(z) for z in range(0, j + 1))\n",
        "print(\"la energía interna es:\", U, \"Joules\")"
      ]
    }
  ]
}